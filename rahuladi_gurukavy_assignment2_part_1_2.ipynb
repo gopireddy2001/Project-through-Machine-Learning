{
 "cells": [
  {
   "cell_type": "markdown",
   "id": "f9d9956d",
   "metadata": {},
   "source": [
    "# Part 1"
   ]
  },
  {
   "cell_type": "code",
   "execution_count": 446,
   "id": "32024fc9",
   "metadata": {},
   "outputs": [],
   "source": [
    "import pandas as pd\n",
    "from sklearn.preprocessing import OneHotEncoder\n",
    "from sklearn.preprocessing import StandardScaler\n",
    "from sklearn.model_selection import train_test_split\n",
    "import torch"
   ]
  },
  {
   "cell_type": "markdown",
   "id": "f93733d4",
   "metadata": {},
   "source": [
    "### Preprocessing The Dataset"
   ]
  },
  {
   "cell_type": "code",
   "execution_count": 447,
   "id": "31a5a7b1",
   "metadata": {},
   "outputs": [
    {
     "data": {
      "text/plain": [
       "f1        object\n",
       "f2        object\n",
       "f3         int64\n",
       "f4        object\n",
       "f5        object\n",
       "f6        object\n",
       "f7        object\n",
       "target     int64\n",
       "dtype: object"
      ]
     },
     "execution_count": 447,
     "metadata": {},
     "output_type": "execute_result"
    }
   ],
   "source": [
    "#Read the set\n",
    "df = pd.read_csv('dataset.csv')\n",
    "df.head()\n",
    "pass\n",
    "df.dtypes"
   ]
  },
  {
   "cell_type": "code",
   "execution_count": 221,
   "id": "4d2fa3eb",
   "metadata": {},
   "outputs": [],
   "source": [
    "#Deleting rows with alphabets\n",
    "for i in df.columns:\n",
    "    if df[i].dtype == object:\n",
    "        df = df[~df[i].str.match(r'[^\\d.]+')]\n",
    "df.reset_index(drop=True, inplace=True)\n",
    "# save the preprocessed data to a new CSV file\n",
    "df.to_csv(\"preprocessed_data.csv\", index=False)\n",
    "pass"
   ]
  },
  {
   "cell_type": "code",
   "execution_count": 222,
   "id": "e6a88aeb",
   "metadata": {},
   "outputs": [
    {
     "data": {
      "text/plain": [
       "f1          int64\n",
       "f2          int64\n",
       "f3          int64\n",
       "f4          int64\n",
       "f5          int64\n",
       "f6        float64\n",
       "f7        float64\n",
       "target      int64\n",
       "dtype: object"
      ]
     },
     "execution_count": 222,
     "metadata": {},
     "output_type": "execute_result"
    }
   ],
   "source": [
    "#Now we can check and confirm that all our columns are numerical \n",
    "preprocessed = pd.read_csv('preprocessed_data.csv')\n",
    "preprocessed.dtypes"
   ]
  },
  {
   "cell_type": "code",
   "execution_count": 223,
   "id": "67b6c51d",
   "metadata": {},
   "outputs": [],
   "source": [
    "#Scaling the dataset so lets get the target out\n",
    "target = preprocessed.pop('target')\n",
    "#Take the numerical cols\n",
    "numerical_cols = ['f1', 'f2', 'f3', 'f4', 'f5', 'f6', 'f7']\n",
    "preprocessed[numerical_cols] = torch.nn.functional.normalize(torch.tensor(preprocessed[numerical_cols].values), dim=0).numpy()\n",
    "#Add back target\n",
    "preprocessed['target'] = target\n",
    "preprocessed.to_csv(\"scaled_data.csv\", index=False)"
   ]
  },
  {
   "cell_type": "code",
   "execution_count": 224,
   "id": "f69205a6",
   "metadata": {},
   "outputs": [
    {
     "data": {
      "text/plain": [
       "f1        float64\n",
       "f2        float64\n",
       "f3        float64\n",
       "f4        float64\n",
       "f5        float64\n",
       "f6        float64\n",
       "f7        float64\n",
       "target      int64\n",
       "dtype: object"
      ]
     },
     "execution_count": 224,
     "metadata": {},
     "output_type": "execute_result"
    }
   ],
   "source": [
    "df = pd.read_csv('scaled_data.csv')\n",
    "df.dtypes"
   ]
  },
  {
   "cell_type": "code",
   "execution_count": 225,
   "id": "e43b5712",
   "metadata": {},
   "outputs": [
    {
     "name": "stdout",
     "output_type": "stream",
     "text": [
      "X_train shape: (608, 7), y_train shape: (608,)\n",
      "X_val shape: (76, 7), y_val shape: (76,)\n",
      "X_test shape: (76, 7), y_test shape: (76,)\n"
     ]
    }
   ],
   "source": [
    "from sklearn.model_selection import train_test_split\n",
    "# Split the data into features (X) and target (y)\n",
    "X = df.drop(columns=['target'])\n",
    "y = df['target']\n",
    "\n",
    "# Split the data into train and validation sets\n",
    "X_train, X_val, y_train, y_val = train_test_split(X, y, test_size=0.2, random_state=42)\n",
    "\n",
    "# Split the validation set into validation and test sets\n",
    "X_val, X_test, y_val, y_test = train_test_split(X_val, y_val, test_size=0.5, random_state=42)\n",
    "\n",
    "# Print the shapes of the resulting arrays\n",
    "print(f\"X_train shape: {X_train.shape}, y_train shape: {y_train.shape}\")\n",
    "print(f\"X_val shape: {X_val.shape}, y_val shape: {y_val.shape}\")\n",
    "print(f\"X_test shape: {X_test.shape}, y_test shape: {y_test.shape}\")"
   ]
  },
  {
   "cell_type": "code",
   "execution_count": 226,
   "id": "b3f3d5b1",
   "metadata": {},
   "outputs": [],
   "source": [
    "#Transforming our dataframes to tensors\n",
    "X_train = torch.Tensor(X_train.values)\n",
    "X_val = torch.Tensor(X_val.values)\n",
    "X_test = torch.Tensor(X_test.values)\n",
    "y_train = torch.LongTensor(y_train.values)\n",
    "y_val = torch.LongTensor(y_val.values)\n",
    "y_test = torch.LongTensor(y_test.values)"
   ]
  },
  {
   "cell_type": "markdown",
   "id": "96092e48",
   "metadata": {},
   "source": [
    "### Implementing Our Neural Network"
   ]
  },
  {
   "cell_type": "code",
   "execution_count": 227,
   "id": "da3c2c1e",
   "metadata": {},
   "outputs": [
    {
     "name": "stdout",
     "output_type": "stream",
     "text": [
      "NeuralNet(\n",
      "  (flatten): Flatten(start_dim=1, end_dim=-1)\n",
      "  (linear_relu_stack): Sequential(\n",
      "    (0): Linear(in_features=7, out_features=128, bias=True)\n",
      "    (1): ReLU()\n",
      "    (2): Linear(in_features=128, out_features=128, bias=True)\n",
      "    (3): ReLU()\n",
      "    (4): Linear(in_features=128, out_features=128, bias=True)\n",
      "    (5): ReLU()\n",
      "    (6): Linear(in_features=128, out_features=2, bias=True)\n",
      "    (7): Sigmoid()\n",
      "  )\n",
      ")\n"
     ]
    }
   ],
   "source": [
    "import torch\n",
    "import torch.nn as nn\n",
    "import torch.nn.init as init\n",
    "#Defining our Neural Network according to given structure with 3 hidden layers, 128 nodes per layer and 7 input neurons for 7 features\n",
    "class NeuralNet(nn.Module):\n",
    "    def __init__(self):\n",
    "        super(NeuralNet, self).__init__()\n",
    "        self.flatten = nn.Flatten()\n",
    "        self.linear_relu_stack = nn.Sequential(\n",
    "            nn.Linear(7, 128),\n",
    "            nn.ReLU(),\n",
    "            nn.Linear(128, 128),\n",
    "            nn.ReLU(),\n",
    "            nn.Linear(128, 128),\n",
    "            nn.ReLU(),\n",
    "            nn.Linear(128, 2),\n",
    "            nn.Sigmoid()\n",
    "        )\n",
    "\n",
    "    def forward(self, x):\n",
    "        x = self.flatten(x)\n",
    "        logits = self.linear_relu_stack(x)\n",
    "        return logits\n",
    "\n",
    "\n",
    "# Create an instance of the neural network\n",
    "model = NeuralNet()\n",
    "print(model)"
   ]
  },
  {
   "cell_type": "code",
   "execution_count": 230,
   "id": "eda94036",
   "metadata": {},
   "outputs": [
    {
     "name": "stdout",
     "output_type": "stream",
     "text": [
      " For Epoch [10/100], training loss is: 0.513 and validation loss is: 0.525\n",
      " For Epoch [20/100], training loss is: 0.510 and validation loss is: 0.520\n",
      " For Epoch [30/100], training loss is: 0.513 and validation loss is: 0.525\n",
      " For Epoch [40/100], training loss is: 0.515 and validation loss is: 0.525\n",
      " For Epoch [50/100], training loss is: 0.509 and validation loss is: 0.520\n",
      " For Epoch [60/100], training loss is: 0.512 and validation loss is: 0.544\n",
      " For Epoch [70/100], training loss is: 0.520 and validation loss is: 0.528\n",
      " For Epoch [80/100], training loss is: 0.509 and validation loss is: 0.529\n",
      " For Epoch [90/100], training loss is: 0.507 and validation loss is: 0.536\n",
      " For Epoch [100/100], training loss is: 0.506 and validation loss is: 0.509\n",
      "Accuracy of the model on the test set is: 76.32%\n"
     ]
    }
   ],
   "source": [
    "from torch.utils.data import DataLoader, TensorDataset\n",
    "\n",
    "# Define the batch size\n",
    "batch_size = 32\n",
    "#Dataloader\n",
    "train_loader = DataLoader(TensorDataset(X_train, y_train), batch_size=batch_size, shuffle=True)\n",
    "\n",
    "# Create a DataLoader for the validation set\n",
    "val_loader = DataLoader(TensorDataset(X_val, y_val), batch_size=batch_size)\n",
    "\n",
    "# Defining the loss function and optimizer\n",
    "loss_fn = nn.CrossEntropyLoss()\n",
    "optimizer = torch.optim.Adam(model.parameters(), lr=0.001)\n",
    "\n",
    "\n",
    "# Training the model\n",
    "#Lets define this as our fit function\n",
    "def fit():\n",
    "    num_epochs = 100\n",
    "    for epoch in range(num_epochs):\n",
    "        # Training\n",
    "        train_loss = 0\n",
    "        for (inputs, targets) in train_loader:\n",
    "            # Forward pass\n",
    "            outputs = model(inputs)\n",
    "            loss = loss_fn(outputs, targets)\n",
    "\n",
    "            # Backward pass and optimization\n",
    "            optimizer.zero_grad()\n",
    "            loss.backward()\n",
    "            optimizer.step()\n",
    "\n",
    "            # Calculate training loss\n",
    "            train_loss += loss.item()\n",
    "\n",
    "        # Validation\n",
    "        val_loss = 0\n",
    "        with torch.no_grad():\n",
    "            for (inputs, targets) in val_loader:\n",
    "                outputs = model(inputs)\n",
    "                loss = loss_fn(outputs, targets)\n",
    "                val_loss += loss.item()\n",
    "\n",
    "        # Print epoch losses for every 10 epochs\n",
    "        if (epoch+1)%10 == 0:\n",
    "            print(f\" For Epoch [{epoch+1}/{num_epochs}], training loss is: {train_loss/len(train_loader):.3f} and validation loss is: {val_loss/len(val_loader):.3f}\")\n",
    "fit()\n",
    "#Now make predictions on test set\n",
    "with torch.no_grad():\n",
    "    outputs = model(X_test)\n",
    "    predicted = torch.argmax(outputs, dim=1)\n",
    "    accuracy = (predicted == y_test).sum().item() / len(y_test)\n",
    "    print(f\"Accuracy of the model on the test set is: {accuracy*100:.2f}%\")\n",
    "torch.save(model.state_dict(), 'rahuladi_gurukavy_assignment2_part1.pt')"
   ]
  },
  {
   "cell_type": "markdown",
   "id": "3dd9809a",
   "metadata": {},
   "source": [
    "### Visualization"
   ]
  },
  {
   "cell_type": "code",
   "execution_count": 231,
   "id": "39be363c",
   "metadata": {},
   "outputs": [
    {
     "name": "stdout",
     "output_type": "stream",
     "text": [
      "Confusion matrix:\n",
      "[[44  8]\n",
      " [10 14]]\n"
     ]
    }
   ],
   "source": [
    "#Visualization with confusion matrix\n",
    "from sklearn.metrics import confusion_matrix\n",
    "\n",
    "# Get the predictions on the validation set\n",
    "with torch.no_grad():\n",
    "    outputs = model(X_val)\n",
    "    predicted = torch.argmax(outputs, dim=1)\n",
    "\n",
    "# Compute the confusion matrix\n",
    "cm = confusion_matrix(y_val, predicted)\n",
    "\n",
    "# Print the confusion matrix\n",
    "print('Confusion matrix:')\n",
    "print(cm)"
   ]
  },
  {
   "cell_type": "code",
   "execution_count": 232,
   "id": "fe2b0f10",
   "metadata": {},
   "outputs": [
    {
     "data": {
      "image/png": "[encoded data removed]",
      "text/plain": [
       "<Figure size 432x288 with 2 Axes>"
      ]
     },
     "metadata": {
      "needs_background": "light"
     },
     "output_type": "display_data"
    }
   ],
   "source": [
    "#Visualization with heat map shows false negative, true negative, false positive and true positive\n",
    "import seaborn as sns\n",
    "import matplotlib.pyplot as plt\n",
    "\n",
    "# Compute the confusion matrix\n",
    "cm = confusion_matrix(y_val, predicted)\n",
    "\n",
    "# Plot the confusion matrix as a heatmap\n",
    "sns.heatmap(cm, annot=True, cmap='Reds')\n",
    "plt.xlabel('Predicted')\n",
    "plt.ylabel('True')\n",
    "plt.show()"
   ]
  },
  {
   "cell_type": "code",
   "execution_count": 233,
   "id": "9441d250",
   "metadata": {},
   "outputs": [
    {
     "data": {
      "image/png": "[encoded data removed]",
      "text/plain": [
       "<Figure size 432x288 with 1 Axes>"
      ]
     },
     "metadata": {
      "needs_background": "light"
     },
     "output_type": "display_data"
    }
   ],
   "source": [
    "import numpy as np\n",
    "import matplotlib.pyplot as plt\n",
    "\n",
    "# Compute the confusion matrix\n",
    "cm = confusion_matrix(y_val, predicted)\n",
    "\n",
    "# Extract values for true positives, false positives, false negatives, and true negatives\n",
    "tn, fp, fn, tp = cm.ravel()\n",
    "\n",
    "# Create a bar chart\n",
    "labels = ['True Negative', 'False Positive', 'False Negative', 'True Positive']\n",
    "values = [tn, fp, fn, tp]\n",
    "colors = ['blue', 'orange', 'green', 'red']\n",
    "plt.bar(labels, values, color=colors)\n",
    "\n",
    "# Add labels and title\n",
    "plt.xlabel('Prediction')\n",
    "plt.ylabel('Count')\n",
    "plt.title('Confusion Matrix')\n",
    "\n",
    "plt.show()"
   ]
  },
  {
   "cell_type": "markdown",
   "id": "f6e664b2",
   "metadata": {},
   "source": [
    "# Part 2"
   ]
  },
  {
   "cell_type": "markdown",
   "id": "3d0199c8",
   "metadata": {},
   "source": [
    "### Setup 1: Tuning Hyper Parameter-1 : Dropout with a dropout rate of 0.2"
   ]
  },
  {
   "cell_type": "code",
   "execution_count": 247,
   "id": "8d4e767f",
   "metadata": {},
   "outputs": [
    {
     "name": "stdout",
     "output_type": "stream",
     "text": [
      "NeuralNet(\n",
      "  (flatten): Flatten(start_dim=1, end_dim=-1)\n",
      "  (linear_relu_stack): Sequential(\n",
      "    (0): Linear(in_features=7, out_features=128, bias=True)\n",
      "    (1): ReLU()\n",
      "    (2): Dropout(p=0.2, inplace=False)\n",
      "    (3): Linear(in_features=128, out_features=128, bias=True)\n",
      "    (4): ReLU()\n",
      "    (5): Dropout(p=0.2, inplace=False)\n",
      "    (6): Linear(in_features=128, out_features=128, bias=True)\n",
      "    (7): ReLU()\n",
      "    (8): Dropout(p=0.2, inplace=False)\n",
      "    (9): Linear(in_features=128, out_features=2, bias=True)\n",
      "    (10): Sigmoid()\n",
      "  )\n",
      ")\n"
     ]
    }
   ],
   "source": [
    "#Now we will be adding dropout layers\n",
    "class NeuralNet(nn.Module):\n",
    "    def __init__(self, dropout_rate):\n",
    "        super(NeuralNet, self).__init__()\n",
    "        self.flatten = nn.Flatten()\n",
    "        self.linear_relu_stack = nn.Sequential(\n",
    "            nn.Linear(7, 128),\n",
    "            nn.ReLU(),\n",
    "            nn.Dropout(p=dropout_rate),\n",
    "            nn.Linear(128, 128),\n",
    "            nn.ReLU(),\n",
    "            nn.Dropout(p=dropout_rate),\n",
    "            nn.Linear(128, 128),\n",
    "            nn.ReLU(),\n",
    "            nn.Dropout(p=dropout_rate),\n",
    "            nn.Linear(128, 2),\n",
    "            nn.Sigmoid()\n",
    "        )\n",
    "    \n",
    "    def forward(self, x):\n",
    "        x = self.flatten(x)\n",
    "        logits = self.linear_relu_stack(x)\n",
    "        return logits\n",
    "\n",
    "\n",
    "# Create an instance of the neural network\n",
    "model = NeuralNet(dropout_rate = 0.2)\n",
    "print(model)"
   ]
  },
  {
   "cell_type": "code",
   "execution_count": 248,
   "id": "d245352b",
   "metadata": {},
   "outputs": [
    {
     "name": "stdout",
     "output_type": "stream",
     "text": [
      " For Epoch [10/100], training loss is: 0.641 and validation loss is: 0.600\n",
      " For Epoch [20/100], training loss is: 0.610 and validation loss is: 0.547\n",
      " For Epoch [30/100], training loss is: 0.580 and validation loss is: 0.557\n",
      " For Epoch [40/100], training loss is: 0.564 and validation loss is: 0.547\n",
      " For Epoch [50/100], training loss is: 0.549 and validation loss is: 0.508\n",
      " For Epoch [60/100], training loss is: 0.544 and validation loss is: 0.496\n",
      " For Epoch [70/100], training loss is: 0.528 and validation loss is: 0.511\n",
      " For Epoch [80/100], training loss is: 0.523 and validation loss is: 0.471\n",
      " For Epoch [90/100], training loss is: 0.521 and validation loss is: 0.535\n",
      " For Epoch [100/100], training loss is: 0.515 and validation loss is: 0.495\n",
      "Accuracy of the model with dropout rate 0.2 is: 78.95%\n"
     ]
    }
   ],
   "source": [
    "from torch.utils.data import DataLoader, TensorDataset\n",
    "\n",
    "# Define the batch size and create a DataLoader for the training set\n",
    "batch_size = 32\n",
    "train_loader = DataLoader(TensorDataset(X_train, y_train), batch_size=batch_size, shuffle=True)\n",
    "\n",
    "# Create a DataLoader for the validation set\n",
    "val_loader = DataLoader(TensorDataset(X_val, y_val), batch_size=batch_size)\n",
    "\n",
    "# Define the loss function and optimizer\n",
    "loss_fn = nn.CrossEntropyLoss()\n",
    "optimizer = torch.optim.Adam(model.parameters(), lr=0.001)\n",
    "\n",
    "\n",
    "# Train the model\n",
    "#Lets define this as our fit function\n",
    "def fit():\n",
    "    num_epochs = 100\n",
    "    for epoch in range(num_epochs):\n",
    "        # Training\n",
    "        train_loss = 0\n",
    "        for (inputs, targets) in train_loader:\n",
    "            # Forward pass\n",
    "            outputs = model(inputs)\n",
    "            loss = loss_fn(outputs, targets)\n",
    "\n",
    "            # Backward pass and optimization\n",
    "            optimizer.zero_grad()\n",
    "            loss.backward()\n",
    "            optimizer.step()\n",
    "\n",
    "            # Calculate training loss\n",
    "            train_loss += loss.item()\n",
    "\n",
    "        # Validation\n",
    "        val_loss = 0\n",
    "        with torch.no_grad():\n",
    "            for (inputs, targets) in val_loader:\n",
    "                outputs = model(inputs)\n",
    "                loss = loss_fn(outputs, targets)\n",
    "                val_loss += loss.item()\n",
    "\n",
    "        # Print epoch losses for every 10 epochs\n",
    "        if (epoch+1)%10 == 0:\n",
    "            print(f\" For Epoch [{epoch+1}/{num_epochs}], training loss is: {train_loss/len(train_loader):.3f} and validation loss is: {val_loss/len(val_loader):.3f}\")\n",
    "fit()\n",
    "#Now make predictions on test set\n",
    "with torch.no_grad():\n",
    "    outputs = model(X_test)\n",
    "    predicted = torch.argmax(outputs, dim=1)\n",
    "    accuracy = (predicted == y_test).sum().item() / len(y_test)\n",
    "    print(f\"Accuracy of the model with dropout rate 0.2 is: {accuracy*100:.2f}%\")\n",
    "torch.save(model.state_dict(), 'rahuladi_gurukavy_assignment2_part2.pt')"
   ]
  },
  {
   "cell_type": "markdown",
   "id": "976d7ee4",
   "metadata": {},
   "source": [
    "### Setup 2: Tuning Hyper Parameter-1 : Dropout with a dropout rate of 0.5"
   ]
  },
  {
   "cell_type": "code",
   "execution_count": 250,
   "id": "f0c5090d",
   "metadata": {},
   "outputs": [
    {
     "name": "stdout",
     "output_type": "stream",
     "text": [
      "NeuralNet(\n",
      "  (flatten): Flatten(start_dim=1, end_dim=-1)\n",
      "  (linear_relu_stack): Sequential(\n",
      "    (0): Linear(in_features=7, out_features=128, bias=True)\n",
      "    (1): ReLU()\n",
      "    (2): Dropout(p=0.5, inplace=False)\n",
      "    (3): Linear(in_features=128, out_features=128, bias=True)\n",
      "    (4): ReLU()\n",
      "    (5): Dropout(p=0.5, inplace=False)\n",
      "    (6): Linear(in_features=128, out_features=128, bias=True)\n",
      "    (7): ReLU()\n",
      "    (8): Dropout(p=0.5, inplace=False)\n",
      "    (9): Linear(in_features=128, out_features=2, bias=True)\n",
      "    (10): Sigmoid()\n",
      "  )\n",
      ")\n"
     ]
    }
   ],
   "source": [
    "# Create an instance of the neural network\n",
    "model = NeuralNet(dropout_rate = 0.5)\n",
    "print(model)"
   ]
  },
  {
   "cell_type": "code",
   "execution_count": 251,
   "id": "2b937bf2",
   "metadata": {},
   "outputs": [
    {
     "name": "stdout",
     "output_type": "stream",
     "text": [
      " For Epoch [10/100], training loss is: 0.651 and validation loss is: 0.614\n",
      " For Epoch [20/100], training loss is: 0.644 and validation loss is: 0.601\n",
      " For Epoch [30/100], training loss is: 0.616 and validation loss is: 0.567\n",
      " For Epoch [40/100], training loss is: 0.592 and validation loss is: 0.536\n",
      " For Epoch [50/100], training loss is: 0.586 and validation loss is: 0.527\n",
      " For Epoch [60/100], training loss is: 0.575 and validation loss is: 0.541\n",
      " For Epoch [70/100], training loss is: 0.558 and validation loss is: 0.515\n",
      " For Epoch [80/100], training loss is: 0.551 and validation loss is: 0.542\n",
      " For Epoch [90/100], training loss is: 0.542 and validation loss is: 0.517\n",
      " For Epoch [100/100], training loss is: 0.541 and validation loss is: 0.547\n",
      "Accuracy of the model with dropout rate 0.5 is: 78.95%\n"
     ]
    }
   ],
   "source": [
    "from torch.utils.data import DataLoader, TensorDataset\n",
    "\n",
    "# Define the batch size and create a DataLoader for the training set\n",
    "batch_size = 32\n",
    "train_loader = DataLoader(TensorDataset(X_train, y_train), batch_size=batch_size, shuffle=True)\n",
    "\n",
    "# Create a DataLoader for the validation set\n",
    "val_loader = DataLoader(TensorDataset(X_val, y_val), batch_size=batch_size)\n",
    "\n",
    "# Define the loss function and optimizer\n",
    "loss_fn = nn.CrossEntropyLoss()\n",
    "optimizer = torch.optim.Adam(model.parameters(), lr=0.001)\n",
    "\n",
    "\n",
    "# Train the model\n",
    "#Lets define this as our fit function\n",
    "def fit():\n",
    "    num_epochs = 100\n",
    "    for epoch in range(num_epochs):\n",
    "        # Training\n",
    "        train_loss = 0\n",
    "        for (inputs, targets) in train_loader:\n",
    "            # Forward pass\n",
    "            outputs = model(inputs)\n",
    "            loss = loss_fn(outputs, targets)\n",
    "\n",
    "            # Backward pass and optimization\n",
    "            optimizer.zero_grad()\n",
    "            loss.backward()\n",
    "            optimizer.step()\n",
    "\n",
    "            # Calculate training loss\n",
    "            train_loss += loss.item()\n",
    "\n",
    "        # Validation\n",
    "        val_loss = 0\n",
    "        with torch.no_grad():\n",
    "            for (inputs, targets) in val_loader:\n",
    "                outputs = model(inputs)\n",
    "                loss = loss_fn(outputs, targets)\n",
    "                val_loss += loss.item()\n",
    "\n",
    "        # Print epoch losses for every 10 epochs\n",
    "        if (epoch+1)%10 == 0:\n",
    "            print(f\" For Epoch [{epoch+1}/{num_epochs}], training loss is: {train_loss/len(train_loader):.3f} and validation loss is: {val_loss/len(val_loader):.3f}\")\n",
    "fit()\n",
    "#Now make predictions on test set\n",
    "with torch.no_grad():\n",
    "    outputs = model(X_test)\n",
    "    predicted = torch.argmax(outputs, dim=1)\n",
    "    accuracy = (predicted == y_test).sum().item() / len(y_test)\n",
    "    print(f\"Accuracy of the model with dropout rate 0.5 is: {accuracy*100:.2f}%\")"
   ]
  },
  {
   "cell_type": "markdown",
   "id": "956a99c7",
   "metadata": {},
   "source": [
    "### Setup 3: Tuning Hyper Parameter-1 : Dropout with a dropout rate of 0.6"
   ]
  },
  {
   "cell_type": "code",
   "execution_count": 252,
   "id": "87779114",
   "metadata": {},
   "outputs": [
    {
     "name": "stdout",
     "output_type": "stream",
     "text": [
      "NeuralNet(\n",
      "  (flatten): Flatten(start_dim=1, end_dim=-1)\n",
      "  (linear_relu_stack): Sequential(\n",
      "    (0): Linear(in_features=7, out_features=128, bias=True)\n",
      "    (1): ReLU()\n",
      "    (2): Dropout(p=0.6, inplace=False)\n",
      "    (3): Linear(in_features=128, out_features=128, bias=True)\n",
      "    (4): ReLU()\n",
      "    (5): Dropout(p=0.6, inplace=False)\n",
      "    (6): Linear(in_features=128, out_features=128, bias=True)\n",
      "    (7): ReLU()\n",
      "    (8): Dropout(p=0.6, inplace=False)\n",
      "    (9): Linear(in_features=128, out_features=2, bias=True)\n",
      "    (10): Sigmoid()\n",
      "  )\n",
      ")\n"
     ]
    }
   ],
   "source": [
    "# Create an instance of the neural network\n",
    "model = NeuralNet(dropout_rate = 0.6)\n",
    "print(model)"
   ]
  },
  {
   "cell_type": "code",
   "execution_count": 253,
   "id": "ebaf6afa",
   "metadata": {},
   "outputs": [
    {
     "name": "stdout",
     "output_type": "stream",
     "text": [
      " For Epoch [10/100], training loss is: 0.647 and validation loss is: 0.588\n",
      " For Epoch [20/100], training loss is: 0.638 and validation loss is: 0.594\n",
      " For Epoch [30/100], training loss is: 0.626 and validation loss is: 0.567\n",
      " For Epoch [40/100], training loss is: 0.599 and validation loss is: 0.585\n",
      " For Epoch [50/100], training loss is: 0.599 and validation loss is: 0.558\n",
      " For Epoch [60/100], training loss is: 0.590 and validation loss is: 0.542\n",
      " For Epoch [70/100], training loss is: 0.561 and validation loss is: 0.531\n",
      " For Epoch [80/100], training loss is: 0.565 and validation loss is: 0.521\n",
      " For Epoch [90/100], training loss is: 0.550 and validation loss is: 0.530\n",
      " For Epoch [100/100], training loss is: 0.558 and validation loss is: 0.534\n",
      "Accuracy of the model with dropout rate 0.6 is: 67.11%\n"
     ]
    }
   ],
   "source": [
    "from torch.utils.data import DataLoader, TensorDataset\n",
    "\n",
    "# Define the batch size and create a DataLoader for the training set\n",
    "batch_size = 32\n",
    "train_loader = DataLoader(TensorDataset(X_train, y_train), batch_size=batch_size, shuffle=True)\n",
    "\n",
    "# Create a DataLoader for the validation set\n",
    "val_loader = DataLoader(TensorDataset(X_val, y_val), batch_size=batch_size)\n",
    "\n",
    "# Define the loss function and optimizer\n",
    "loss_fn = nn.CrossEntropyLoss()\n",
    "optimizer = torch.optim.Adam(model.parameters(), lr=0.001)\n",
    "\n",
    "\n",
    "# Train the model\n",
    "#Lets define this as our fit function\n",
    "def fit():\n",
    "    num_epochs = 100\n",
    "    for epoch in range(num_epochs):\n",
    "        # Training\n",
    "        train_loss = 0\n",
    "        for (inputs, targets) in train_loader:\n",
    "            # Forward pass\n",
    "            outputs = model(inputs)\n",
    "            loss = loss_fn(outputs, targets)\n",
    "\n",
    "            # Backward pass and optimization\n",
    "            optimizer.zero_grad()\n",
    "            loss.backward()\n",
    "            optimizer.step()\n",
    "\n",
    "            # Calculate training loss\n",
    "            train_loss += loss.item()\n",
    "\n",
    "        # Validation\n",
    "        val_loss = 0\n",
    "        with torch.no_grad():\n",
    "            for (inputs, targets) in val_loader:\n",
    "                outputs = model(inputs)\n",
    "                loss = loss_fn(outputs, targets)\n",
    "                val_loss += loss.item()\n",
    "\n",
    "        # Print epoch losses for every 10 epochs\n",
    "        if (epoch+1)%10 == 0:\n",
    "            print(f\" For Epoch [{epoch+1}/{num_epochs}], training loss is: {train_loss/len(train_loader):.3f} and validation loss is: {val_loss/len(val_loader):.3f}\")\n",
    "fit()\n",
    "#Now make predictions on test set\n",
    "with torch.no_grad():\n",
    "    outputs = model(X_test)\n",
    "    predicted = torch.argmax(outputs, dim=1)\n",
    "    accuracy = (predicted == y_test).sum().item() / len(y_test)\n",
    "    print(f\"Accuracy of the model with dropout rate 0.6 is: {accuracy*100:.2f}%\")"
   ]
  },
  {
   "cell_type": "markdown",
   "id": "c4b4aa6c",
   "metadata": {},
   "source": [
    "### Setup 4: Truning Hyper Parameter-2 : Using RMSprop Optimizer lets fix dropout at 0.2 as it gave best result previously"
   ]
  },
  {
   "cell_type": "code",
   "execution_count": 254,
   "id": "488afec1",
   "metadata": {},
   "outputs": [
    {
     "name": "stdout",
     "output_type": "stream",
     "text": [
      "NeuralNet(\n",
      "  (flatten): Flatten(start_dim=1, end_dim=-1)\n",
      "  (linear_relu_stack): Sequential(\n",
      "    (0): Linear(in_features=7, out_features=128, bias=True)\n",
      "    (1): ReLU()\n",
      "    (2): Dropout(p=0.2, inplace=False)\n",
      "    (3): Linear(in_features=128, out_features=128, bias=True)\n",
      "    (4): ReLU()\n",
      "    (5): Dropout(p=0.2, inplace=False)\n",
      "    (6): Linear(in_features=128, out_features=128, bias=True)\n",
      "    (7): ReLU()\n",
      "    (8): Dropout(p=0.2, inplace=False)\n",
      "    (9): Linear(in_features=128, out_features=2, bias=True)\n",
      "    (10): Sigmoid()\n",
      "  )\n",
      ")\n"
     ]
    }
   ],
   "source": [
    "# Create an instance of the neural network\n",
    "model = NeuralNet(dropout_rate = 0.2)\n",
    "print(model)"
   ]
  },
  {
   "cell_type": "code",
   "execution_count": 255,
   "id": "6c746811",
   "metadata": {},
   "outputs": [
    {
     "name": "stdout",
     "output_type": "stream",
     "text": [
      " For Epoch [10/100], training loss is: 0.643 and validation loss is: 0.590\n",
      " For Epoch [20/100], training loss is: 0.595 and validation loss is: 0.567\n",
      " For Epoch [30/100], training loss is: 0.586 and validation loss is: 0.557\n",
      " For Epoch [40/100], training loss is: 0.582 and validation loss is: 0.527\n",
      " For Epoch [50/100], training loss is: 0.562 and validation loss is: 0.531\n",
      " For Epoch [60/100], training loss is: 0.561 and validation loss is: 0.525\n",
      " For Epoch [70/100], training loss is: 0.537 and validation loss is: 0.508\n",
      " For Epoch [80/100], training loss is: 0.538 and validation loss is: 0.537\n",
      " For Epoch [90/100], training loss is: 0.537 and validation loss is: 0.540\n",
      " For Epoch [100/100], training loss is: 0.529 and validation loss is: 0.513\n",
      "Accuracy of the model with an RMSprop Optimizer is: 73.68%\n"
     ]
    }
   ],
   "source": [
    "from torch.utils.data import DataLoader, TensorDataset\n",
    "\n",
    "# Define the batch size and create a DataLoader for the training set\n",
    "batch_size = 32\n",
    "train_loader = DataLoader(TensorDataset(X_train, y_train), batch_size=batch_size, shuffle=True)\n",
    "\n",
    "# Create a DataLoader for the validation set\n",
    "val_loader = DataLoader(TensorDataset(X_val, y_val), batch_size=batch_size)\n",
    "\n",
    "# Define the loss function and optimizer\n",
    "loss_fn = nn.CrossEntropyLoss()\n",
    "optimizer = torch.optim.RMSprop(model.parameters(), lr=0.001)\n",
    "\n",
    "\n",
    "# Train the model\n",
    "#Lets define this as our fit function\n",
    "def fit():\n",
    "    num_epochs = 100\n",
    "    for epoch in range(num_epochs):\n",
    "        # Training\n",
    "        train_loss = 0\n",
    "        for (inputs, targets) in train_loader:\n",
    "            # Forward pass\n",
    "            outputs = model(inputs)\n",
    "            loss = loss_fn(outputs, targets)\n",
    "\n",
    "            # Backward pass and optimization\n",
    "            optimizer.zero_grad()\n",
    "            loss.backward()\n",
    "            optimizer.step()\n",
    "\n",
    "            # Calculate training loss\n",
    "            train_loss += loss.item()\n",
    "\n",
    "        # Validation\n",
    "        val_loss = 0\n",
    "        with torch.no_grad():\n",
    "            for (inputs, targets) in val_loader:\n",
    "                outputs = model(inputs)\n",
    "                loss = loss_fn(outputs, targets)\n",
    "                val_loss += loss.item()\n",
    "\n",
    "        # Print epoch losses for every 10 epochs\n",
    "        if (epoch+1)%10 == 0:\n",
    "            print(f\" For Epoch [{epoch+1}/{num_epochs}], training loss is: {train_loss/len(train_loader):.3f} and validation loss is: {val_loss/len(val_loader):.3f}\")\n",
    "fit()\n",
    "#Now make predictions on test set\n",
    "with torch.no_grad():\n",
    "    outputs = model(X_test)\n",
    "    predicted = torch.argmax(outputs, dim=1)\n",
    "    accuracy = (predicted == y_test).sum().item() / len(y_test)\n",
    "    print(f\"Accuracy of the model with an RMSprop Optimizer is: {accuracy*100:.2f}%\")"
   ]
  },
  {
   "cell_type": "markdown",
   "id": "d0c2b7ee",
   "metadata": {},
   "source": [
    "### Setup 5: Truning Hyper Parameter-2 : Using SGD Optimizer lets fix dropout at 0.2 as it yielded our best result previously"
   ]
  },
  {
   "cell_type": "code",
   "execution_count": 256,
   "id": "bc91745a",
   "metadata": {},
   "outputs": [
    {
     "name": "stdout",
     "output_type": "stream",
     "text": [
      "NeuralNet(\n",
      "  (flatten): Flatten(start_dim=1, end_dim=-1)\n",
      "  (linear_relu_stack): Sequential(\n",
      "    (0): Linear(in_features=7, out_features=128, bias=True)\n",
      "    (1): ReLU()\n",
      "    (2): Dropout(p=0.2, inplace=False)\n",
      "    (3): Linear(in_features=128, out_features=128, bias=True)\n",
      "    (4): ReLU()\n",
      "    (5): Dropout(p=0.2, inplace=False)\n",
      "    (6): Linear(in_features=128, out_features=128, bias=True)\n",
      "    (7): ReLU()\n",
      "    (8): Dropout(p=0.2, inplace=False)\n",
      "    (9): Linear(in_features=128, out_features=2, bias=True)\n",
      "    (10): Sigmoid()\n",
      "  )\n",
      ")\n"
     ]
    }
   ],
   "source": [
    "# Create an instance of the neural network\n",
    "model = NeuralNet(dropout_rate = 0.2)\n",
    "print(model)"
   ]
  },
  {
   "cell_type": "code",
   "execution_count": 257,
   "id": "40243518",
   "metadata": {},
   "outputs": [
    {
     "name": "stdout",
     "output_type": "stream",
     "text": [
      " For Epoch [10/100], training loss is: 0.689 and validation loss is: 0.687\n",
      " For Epoch [20/100], training loss is: 0.688 and validation loss is: 0.685\n",
      " For Epoch [30/100], training loss is: 0.687 and validation loss is: 0.684\n",
      " For Epoch [40/100], training loss is: 0.686 and validation loss is: 0.683\n",
      " For Epoch [50/100], training loss is: 0.685 and validation loss is: 0.682\n",
      " For Epoch [60/100], training loss is: 0.685 and validation loss is: 0.681\n",
      " For Epoch [70/100], training loss is: 0.684 and validation loss is: 0.680\n",
      " For Epoch [80/100], training loss is: 0.683 and validation loss is: 0.678\n",
      " For Epoch [90/100], training loss is: 0.683 and validation loss is: 0.678\n",
      " For Epoch [100/100], training loss is: 0.682 and validation loss is: 0.676\n",
      "Accuracy of the model with an SGD Optimizer is: 63.16%\n"
     ]
    }
   ],
   "source": [
    "from torch.utils.data import DataLoader, TensorDataset\n",
    "\n",
    "# Define the batch size and create a DataLoader for the training set\n",
    "batch_size = 32\n",
    "train_loader = DataLoader(TensorDataset(X_train, y_train), batch_size=batch_size, shuffle=True)\n",
    "\n",
    "# Create a DataLoader for the validation set\n",
    "val_loader = DataLoader(TensorDataset(X_val, y_val), batch_size=batch_size)\n",
    "\n",
    "# Define the loss function and optimizer\n",
    "loss_fn = nn.CrossEntropyLoss()\n",
    "optimizer = torch.optim.SGD(model.parameters(), lr=0.001)\n",
    "\n",
    "\n",
    "# Train the model\n",
    "#Lets define this as our fit function\n",
    "def fit():\n",
    "    num_epochs = 100\n",
    "    for epoch in range(num_epochs):\n",
    "        # Training\n",
    "        train_loss = 0\n",
    "        for (inputs, targets) in train_loader:\n",
    "            # Forward pass\n",
    "            outputs = model(inputs)\n",
    "            loss = loss_fn(outputs, targets)\n",
    "\n",
    "            # Backward pass and optimization\n",
    "            optimizer.zero_grad()\n",
    "            loss.backward()\n",
    "            optimizer.step()\n",
    "\n",
    "            # Calculate training loss\n",
    "            train_loss += loss.item()\n",
    "\n",
    "        # Validation\n",
    "        val_loss = 0\n",
    "        with torch.no_grad():\n",
    "            for (inputs, targets) in val_loader:\n",
    "                outputs = model(inputs)\n",
    "                loss = loss_fn(outputs, targets)\n",
    "                val_loss += loss.item()\n",
    "\n",
    "        # Print epoch losses for every 10 epochs\n",
    "        if (epoch+1)%10 == 0:\n",
    "            print(f\" For Epoch [{epoch+1}/{num_epochs}], training loss is: {train_loss/len(train_loader):.3f} and validation loss is: {val_loss/len(val_loader):.3f}\")\n",
    "fit()\n",
    "#Now make predictions on test set\n",
    "with torch.no_grad():\n",
    "    outputs = model(X_test)\n",
    "    predicted = torch.argmax(outputs, dim=1)\n",
    "    accuracy = (predicted == y_test).sum().item() / len(y_test)\n",
    "    print(f\"Accuracy of the model with an SGD Optimizer is: {accuracy*100:.2f}%\")"
   ]
  },
  {
   "cell_type": "markdown",
   "id": "baba2427",
   "metadata": {},
   "source": [
    "### Setup 6: Truning Hyper Parameter-2 : Using Adagrad Optimizer lets fix dropout at 0.2"
   ]
  },
  {
   "cell_type": "code",
   "execution_count": 258,
   "id": "008b4d3a",
   "metadata": {},
   "outputs": [
    {
     "name": "stdout",
     "output_type": "stream",
     "text": [
      "NeuralNet(\n",
      "  (flatten): Flatten(start_dim=1, end_dim=-1)\n",
      "  (linear_relu_stack): Sequential(\n",
      "    (0): Linear(in_features=7, out_features=128, bias=True)\n",
      "    (1): ReLU()\n",
      "    (2): Dropout(p=0.2, inplace=False)\n",
      "    (3): Linear(in_features=128, out_features=128, bias=True)\n",
      "    (4): ReLU()\n",
      "    (5): Dropout(p=0.2, inplace=False)\n",
      "    (6): Linear(in_features=128, out_features=128, bias=True)\n",
      "    (7): ReLU()\n",
      "    (8): Dropout(p=0.2, inplace=False)\n",
      "    (9): Linear(in_features=128, out_features=2, bias=True)\n",
      "    (10): Sigmoid()\n",
      "  )\n",
      ")\n"
     ]
    }
   ],
   "source": [
    "# Create an instance of the neural network\n",
    "model = NeuralNet(dropout_rate = 0.2)\n",
    "print(model)"
   ]
  },
  {
   "cell_type": "code",
   "execution_count": 259,
   "id": "4710a2e8",
   "metadata": {},
   "outputs": [
    {
     "name": "stdout",
     "output_type": "stream",
     "text": [
      " For Epoch [10/100], training loss is: 0.649 and validation loss is: 0.610\n",
      " For Epoch [20/100], training loss is: 0.647 and validation loss is: 0.615\n",
      " For Epoch [30/100], training loss is: 0.649 and validation loss is: 0.606\n",
      " For Epoch [40/100], training loss is: 0.649 and validation loss is: 0.605\n",
      " For Epoch [50/100], training loss is: 0.648 and validation loss is: 0.606\n",
      " For Epoch [60/100], training loss is: 0.648 and validation loss is: 0.608\n",
      " For Epoch [70/100], training loss is: 0.647 and validation loss is: 0.601\n",
      " For Epoch [80/100], training loss is: 0.646 and validation loss is: 0.606\n",
      " For Epoch [90/100], training loss is: 0.646 and validation loss is: 0.609\n",
      " For Epoch [100/100], training loss is: 0.646 and validation loss is: 0.609\n",
      "Accuracy of the model with an Adagrad Optimizer is: 63.16%\n"
     ]
    }
   ],
   "source": [
    "from torch.utils.data import DataLoader, TensorDataset\n",
    "\n",
    "# Define the batch size and create a DataLoader for the training set\n",
    "batch_size = 32\n",
    "train_loader = DataLoader(TensorDataset(X_train, y_train), batch_size=batch_size, shuffle=True)\n",
    "\n",
    "# Create a DataLoader for the validation set\n",
    "val_loader = DataLoader(TensorDataset(X_val, y_val), batch_size=batch_size)\n",
    "\n",
    "# Define the loss function and optimizer\n",
    "loss_fn = nn.CrossEntropyLoss()\n",
    "optimizer = torch.optim.Adagrad(model.parameters(), lr=0.001)\n",
    "\n",
    "\n",
    "# Train the model\n",
    "#Lets define this as our fit function\n",
    "def fit():\n",
    "    num_epochs = 100\n",
    "    for epoch in range(num_epochs):\n",
    "        # Training\n",
    "        train_loss = 0\n",
    "        for (inputs, targets) in train_loader:\n",
    "            # Forward pass\n",
    "            outputs = model(inputs)\n",
    "            loss = loss_fn(outputs, targets)\n",
    "\n",
    "            # Backward pass and optimization\n",
    "            optimizer.zero_grad()\n",
    "            loss.backward()\n",
    "            optimizer.step()\n",
    "\n",
    "            # Calculate training loss\n",
    "            train_loss += loss.item()\n",
    "\n",
    "        # Validation\n",
    "        val_loss = 0\n",
    "        with torch.no_grad():\n",
    "            for (inputs, targets) in val_loader:\n",
    "                outputs = model(inputs)\n",
    "                loss = loss_fn(outputs, targets)\n",
    "                val_loss += loss.item()\n",
    "\n",
    "        # Print epoch losses for every 10 epochs\n",
    "        if (epoch+1)%10 == 0:\n",
    "            print(f\" For Epoch [{epoch+1}/{num_epochs}], training loss is: {train_loss/len(train_loader):.3f} and validation loss is: {val_loss/len(val_loader):.3f}\")\n",
    "fit()\n",
    "#Now make predictions on test set\n",
    "with torch.no_grad():\n",
    "    outputs = model(X_test)\n",
    "    predicted = torch.argmax(outputs, dim=1)\n",
    "    accuracy = (predicted == y_test).sum().item() / len(y_test)\n",
    "    print(f\"Accuracy of the model with an Adagrad Optimizer is: {accuracy*100:.2f}%\")"
   ]
  },
  {
   "cell_type": "markdown",
   "id": "529c9db3",
   "metadata": {},
   "source": [
    "### Setup 7: Tuning Hyper Parameter-3 : Activation Function as Softmax lets keep dropout at 0.2 and fix Adam Optimizer as best results were obtained this way"
   ]
  },
  {
   "cell_type": "code",
   "execution_count": 263,
   "id": "cc4418f7",
   "metadata": {},
   "outputs": [
    {
     "name": "stdout",
     "output_type": "stream",
     "text": [
      "NeuralNet(\n",
      "  (flatten): Flatten(start_dim=1, end_dim=-1)\n",
      "  (linear_relu_stack): Sequential(\n",
      "    (0): Linear(in_features=7, out_features=128, bias=True)\n",
      "    (1): ReLU()\n",
      "    (2): Dropout(p=0.2, inplace=False)\n",
      "    (3): Linear(in_features=128, out_features=128, bias=True)\n",
      "    (4): ReLU()\n",
      "    (5): Dropout(p=0.2, inplace=False)\n",
      "    (6): Linear(in_features=128, out_features=128, bias=True)\n",
      "    (7): ReLU()\n",
      "    (8): Dropout(p=0.2, inplace=False)\n",
      "    (9): Linear(in_features=128, out_features=2, bias=True)\n",
      "    (10): Softmax(dim=1)\n",
      "  )\n",
      ")\n"
     ]
    }
   ],
   "source": [
    "#Now we will be adding dropout layers\n",
    "class NeuralNet(nn.Module):\n",
    "    def __init__(self, dropout_rate):\n",
    "        super(NeuralNet, self).__init__()\n",
    "        self.flatten = nn.Flatten()\n",
    "        self.linear_relu_stack = nn.Sequential(\n",
    "            nn.Linear(7, 128),\n",
    "            nn.ReLU(),\n",
    "            nn.Dropout(p=dropout_rate),\n",
    "            nn.Linear(128, 128),\n",
    "            nn.ReLU(),\n",
    "            nn.Dropout(p=dropout_rate),\n",
    "            nn.Linear(128, 128),\n",
    "            nn.ReLU(),\n",
    "            nn.Dropout(p=dropout_rate),\n",
    "            nn.Linear(128, 2),\n",
    "            nn.Softmax(dim=1)\n",
    "        )\n",
    "    \n",
    "    def forward(self, x):\n",
    "        x = self.flatten(x)\n",
    "        logits = self.linear_relu_stack(x)\n",
    "        return logits\n",
    "\n",
    "\n",
    "# Create an instance of the neural network\n",
    "model = NeuralNet(dropout_rate = 0.2)\n",
    "print(model)"
   ]
  },
  {
   "cell_type": "code",
   "execution_count": 267,
   "id": "b063f9cd",
   "metadata": {},
   "outputs": [
    {
     "name": "stdout",
     "output_type": "stream",
     "text": [
      " For Epoch [10/100], training loss is: 0.511 and validation loss is: 0.513\n",
      " For Epoch [20/100], training loss is: 0.513 and validation loss is: 0.518\n",
      " For Epoch [30/100], training loss is: 0.504 and validation loss is: 0.513\n",
      " For Epoch [40/100], training loss is: 0.517 and validation loss is: 0.527\n",
      " For Epoch [50/100], training loss is: 0.518 and validation loss is: 0.515\n",
      " For Epoch [60/100], training loss is: 0.514 and validation loss is: 0.523\n",
      " For Epoch [70/100], training loss is: 0.512 and validation loss is: 0.538\n",
      " For Epoch [80/100], training loss is: 0.505 and validation loss is: 0.496\n",
      " For Epoch [90/100], training loss is: 0.512 and validation loss is: 0.515\n",
      " For Epoch [100/100], training loss is: 0.509 and validation loss is: 0.511\n",
      "Accuracy of the model on the test set is: 77.63%\n"
     ]
    }
   ],
   "source": [
    "from torch.utils.data import DataLoader, TensorDataset\n",
    "\n",
    "# Define the batch size and create a DataLoader for the training set\n",
    "batch_size = 32\n",
    "train_loader = DataLoader(TensorDataset(X_train, y_train), batch_size=batch_size, shuffle=True)\n",
    "\n",
    "# Create a DataLoader for the validation set\n",
    "val_loader = DataLoader(TensorDataset(X_val, y_val), batch_size=batch_size)\n",
    "\n",
    "# Define the loss function and optimizer\n",
    "loss_fn = nn.CrossEntropyLoss()\n",
    "optimizer = torch.optim.Adam(model.parameters(), lr=0.001)\n",
    "\n",
    "\n",
    "# Train the model\n",
    "#Lets define this as our fit function\n",
    "def fit():\n",
    "    num_epochs = 100\n",
    "    for epoch in range(num_epochs):\n",
    "        # Training\n",
    "        train_loss = 0\n",
    "        for (inputs, targets) in train_loader:\n",
    "            # Forward pass\n",
    "            outputs = model(inputs)\n",
    "            loss = loss_fn(outputs, targets)\n",
    "\n",
    "            # Backward pass and optimization\n",
    "            optimizer.zero_grad()\n",
    "            loss.backward()\n",
    "            optimizer.step()\n",
    "\n",
    "            # Calculate training loss\n",
    "            train_loss += loss.item()\n",
    "\n",
    "        # Validation\n",
    "        val_loss = 0\n",
    "        with torch.no_grad():\n",
    "            for (inputs, targets) in val_loader:\n",
    "                outputs = model(inputs)\n",
    "                loss = loss_fn(outputs, targets)\n",
    "                val_loss += loss.item()\n",
    "\n",
    "        # Print epoch losses for every 10 epochs\n",
    "        if (epoch+1)%10 == 0:\n",
    "            print(f\" For Epoch [{epoch+1}/{num_epochs}], training loss is: {train_loss/len(train_loader):.3f} and validation loss is: {val_loss/len(val_loader):.3f}\")\n",
    "fit()\n",
    "#Now make predictions on test set\n",
    "with torch.no_grad():\n",
    "    outputs = model(X_test)\n",
    "    predicted = torch.argmax(outputs, dim=1)\n",
    "    accuracy = (predicted == y_test).sum().item() / len(y_test)\n",
    "    print(f\"Accuracy of the model on the test set is: {accuracy*100:.2f}%\")"
   ]
  },
  {
   "cell_type": "markdown",
   "id": "bba5b054",
   "metadata": {},
   "source": [
    "### Setup 8: Tuning Hyper Parameter-3 : Activation Function as Tanh lets keep dropout at 0.2 and fix Adam Optimizer from part 1"
   ]
  },
  {
   "cell_type": "code",
   "execution_count": 268,
   "id": "88130f7d",
   "metadata": {},
   "outputs": [
    {
     "name": "stdout",
     "output_type": "stream",
     "text": [
      "NeuralNet(\n",
      "  (flatten): Flatten(start_dim=1, end_dim=-1)\n",
      "  (linear_relu_stack): Sequential(\n",
      "    (0): Linear(in_features=7, out_features=128, bias=True)\n",
      "    (1): ReLU()\n",
      "    (2): Dropout(p=0.2, inplace=False)\n",
      "    (3): Linear(in_features=128, out_features=128, bias=True)\n",
      "    (4): ReLU()\n",
      "    (5): Dropout(p=0.2, inplace=False)\n",
      "    (6): Linear(in_features=128, out_features=128, bias=True)\n",
      "    (7): ReLU()\n",
      "    (8): Dropout(p=0.2, inplace=False)\n",
      "    (9): Linear(in_features=128, out_features=2, bias=True)\n",
      "    (10): Tanh()\n",
      "  )\n",
      ")\n"
     ]
    }
   ],
   "source": [
    "#Tuning Hyper Parameter-1 : Dropout\n",
    "#First using dropout rate of 0.2\n",
    "#Now we will be adding dropout layers\n",
    "class NeuralNet(nn.Module):\n",
    "    def __init__(self, dropout_rate):\n",
    "        super(NeuralNet, self).__init__()\n",
    "        self.flatten = nn.Flatten()\n",
    "        self.linear_relu_stack = nn.Sequential(\n",
    "            nn.Linear(7, 128),\n",
    "            nn.ReLU(),\n",
    "            nn.Dropout(p=dropout_rate),\n",
    "            nn.Linear(128, 128),\n",
    "            nn.ReLU(),\n",
    "            nn.Dropout(p=dropout_rate),\n",
    "            nn.Linear(128, 128),\n",
    "            nn.ReLU(),\n",
    "            nn.Dropout(p=dropout_rate),\n",
    "            nn.Linear(128, 2),\n",
    "            nn.Tanh()\n",
    "        )\n",
    "    \n",
    "    def forward(self, x):\n",
    "        x = self.flatten(x)\n",
    "        logits = self.linear_relu_stack(x)\n",
    "        return logits\n",
    "\n",
    "\n",
    "# Create an instance of the neural network\n",
    "model = NeuralNet(dropout_rate = 0.2)\n",
    "print(model)"
   ]
  },
  {
   "cell_type": "code",
   "execution_count": 269,
   "id": "cd65c58b",
   "metadata": {},
   "outputs": [
    {
     "name": "stdout",
     "output_type": "stream",
     "text": [
      " For Epoch [10/100], training loss is: 0.628 and validation loss is: 0.575\n",
      " For Epoch [20/100], training loss is: 0.574 and validation loss is: 0.492\n",
      " For Epoch [30/100], training loss is: 0.545 and validation loss is: 0.491\n",
      " For Epoch [40/100], training loss is: 0.532 and validation loss is: 0.465\n",
      " For Epoch [50/100], training loss is: 0.509 and validation loss is: 0.443\n",
      " For Epoch [60/100], training loss is: 0.489 and validation loss is: 0.501\n",
      " For Epoch [70/100], training loss is: 0.496 and validation loss is: 0.444\n",
      " For Epoch [80/100], training loss is: 0.503 and validation loss is: 0.429\n",
      " For Epoch [90/100], training loss is: 0.490 and validation loss is: 0.484\n",
      " For Epoch [100/100], training loss is: 0.484 and validation loss is: 0.462\n",
      "Accuracy of the model on the test set is: 73.68%\n"
     ]
    }
   ],
   "source": [
    "from torch.utils.data import DataLoader, TensorDataset\n",
    "\n",
    "# Define the batch size and create a DataLoader for the training set\n",
    "batch_size = 32\n",
    "train_loader = DataLoader(TensorDataset(X_train, y_train), batch_size=batch_size, shuffle=True)\n",
    "\n",
    "# Create a DataLoader for the validation set\n",
    "val_loader = DataLoader(TensorDataset(X_val, y_val), batch_size=batch_size)\n",
    "\n",
    "# Define the loss function and optimizer\n",
    "loss_fn = nn.CrossEntropyLoss()\n",
    "optimizer = torch.optim.Adam(model.parameters(), lr=0.001)\n",
    "\n",
    "\n",
    "# Train the model\n",
    "#Lets define this as our fit function\n",
    "def fit():\n",
    "    num_epochs = 100\n",
    "    for epoch in range(num_epochs):\n",
    "        # Training\n",
    "        train_loss = 0\n",
    "        for (inputs, targets) in train_loader:\n",
    "            # Forward pass\n",
    "            outputs = model(inputs)\n",
    "            loss = loss_fn(outputs, targets)\n",
    "\n",
    "            # Backward pass and optimization\n",
    "            optimizer.zero_grad()\n",
    "            loss.backward()\n",
    "            optimizer.step()\n",
    "\n",
    "            # Calculate training loss\n",
    "            train_loss += loss.item()\n",
    "\n",
    "        # Validation\n",
    "        val_loss = 0\n",
    "        with torch.no_grad():\n",
    "            for (inputs, targets) in val_loader:\n",
    "                outputs = model(inputs)\n",
    "                loss = loss_fn(outputs, targets)\n",
    "                val_loss += loss.item()\n",
    "\n",
    "        # Print epoch losses for every 10 epochs\n",
    "        if (epoch+1)%10 == 0:\n",
    "            print(f\" For Epoch [{epoch+1}/{num_epochs}], training loss is: {train_loss/len(train_loader):.3f} and validation loss is: {val_loss/len(val_loader):.3f}\")\n",
    "fit()\n",
    "#Now make predictions on test set\n",
    "with torch.no_grad():\n",
    "    outputs = model(X_test)\n",
    "    predicted = torch.argmax(outputs, dim=1)\n",
    "    accuracy = (predicted == y_test).sum().item() / len(y_test)\n",
    "    print(f\"Accuracy of the model on the test set is: {accuracy*100:.2f}%\")"
   ]
  },
  {
   "cell_type": "markdown",
   "id": "90917c72",
   "metadata": {},
   "source": [
    "### Setup 9: Tuning Hyper Parameter-3 : Activation Function as Relu lets keep dropout at 0.2 and fix Adam Optimizer from part 1"
   ]
  },
  {
   "cell_type": "code",
   "execution_count": 270,
   "id": "b0880f0a",
   "metadata": {},
   "outputs": [
    {
     "name": "stdout",
     "output_type": "stream",
     "text": [
      "NeuralNet(\n",
      "  (flatten): Flatten(start_dim=1, end_dim=-1)\n",
      "  (linear_relu_stack): Sequential(\n",
      "    (0): Linear(in_features=7, out_features=128, bias=True)\n",
      "    (1): ReLU()\n",
      "    (2): Dropout(p=0.2, inplace=False)\n",
      "    (3): Linear(in_features=128, out_features=128, bias=True)\n",
      "    (4): ReLU()\n",
      "    (5): Dropout(p=0.2, inplace=False)\n",
      "    (6): Linear(in_features=128, out_features=128, bias=True)\n",
      "    (7): ReLU()\n",
      "    (8): Dropout(p=0.2, inplace=False)\n",
      "    (9): Linear(in_features=128, out_features=2, bias=True)\n",
      "    (10): ReLU()\n",
      "  )\n",
      ")\n"
     ]
    }
   ],
   "source": [
    "#Tuning Hyper Parameter-1 : Dropout\n",
    "#First using dropout rate of 0.2\n",
    "#Now we will be adding dropout layers\n",
    "class NeuralNet(nn.Module):\n",
    "    def __init__(self, dropout_rate):\n",
    "        super(NeuralNet, self).__init__()\n",
    "        self.flatten = nn.Flatten()\n",
    "        self.linear_relu_stack = nn.Sequential(\n",
    "            nn.Linear(7, 128),\n",
    "            nn.ReLU(),\n",
    "            nn.Dropout(p=dropout_rate),\n",
    "            nn.Linear(128, 128),\n",
    "            nn.ReLU(),\n",
    "            nn.Dropout(p=dropout_rate),\n",
    "            nn.Linear(128, 128),\n",
    "            nn.ReLU(),\n",
    "            nn.Dropout(p=dropout_rate),\n",
    "            nn.Linear(128, 2),\n",
    "            nn.ReLU()\n",
    "        )\n",
    "    \n",
    "    def forward(self, x):\n",
    "        x = self.flatten(x)\n",
    "        logits = self.linear_relu_stack(x)\n",
    "        return logits\n",
    "\n",
    "\n",
    "# Create an instance of the neural network\n",
    "model = NeuralNet(dropout_rate = 0.2)\n",
    "print(model)"
   ]
  },
  {
   "cell_type": "code",
   "execution_count": 272,
   "id": "b1b90694",
   "metadata": {},
   "outputs": [
    {
     "name": "stdout",
     "output_type": "stream",
     "text": [
      " For Epoch [10/100], training loss is: 0.460 and validation loss is: 0.483\n",
      " For Epoch [20/100], training loss is: 0.480 and validation loss is: 0.483\n",
      " For Epoch [30/100], training loss is: 0.453 and validation loss is: 0.444\n",
      " For Epoch [40/100], training loss is: 0.465 and validation loss is: 0.445\n",
      " For Epoch [50/100], training loss is: 0.466 and validation loss is: 0.465\n",
      " For Epoch [60/100], training loss is: 0.462 and validation loss is: 0.476\n",
      " For Epoch [70/100], training loss is: 0.462 and validation loss is: 0.469\n",
      " For Epoch [80/100], training loss is: 0.455 and validation loss is: 0.452\n",
      " For Epoch [90/100], training loss is: 0.459 and validation loss is: 0.461\n",
      " For Epoch [100/100], training loss is: 0.458 and validation loss is: 0.459\n",
      "Accuracy of the model on the test set is: 75.00%\n"
     ]
    }
   ],
   "source": [
    "from torch.utils.data import DataLoader, TensorDataset\n",
    "\n",
    "# Define the batch size and create a DataLoader for the training set\n",
    "batch_size = 32\n",
    "train_loader = DataLoader(TensorDataset(X_train, y_train), batch_size=batch_size, shuffle=True)\n",
    "\n",
    "# Create a DataLoader for the validation set\n",
    "val_loader = DataLoader(TensorDataset(X_val, y_val), batch_size=batch_size)\n",
    "\n",
    "# Define the loss function and optimizer\n",
    "loss_fn = nn.CrossEntropyLoss()\n",
    "optimizer = torch.optim.Adam(model.parameters(), lr=0.001)\n",
    "\n",
    "\n",
    "# Train the model\n",
    "#Lets define this as our fit function\n",
    "def fit():\n",
    "    num_epochs = 100\n",
    "    for epoch in range(num_epochs):\n",
    "        # Training\n",
    "        train_loss = 0\n",
    "        for (inputs, targets) in train_loader:\n",
    "            # Forward pass\n",
    "            outputs = model(inputs)\n",
    "            loss = loss_fn(outputs, targets)\n",
    "\n",
    "            # Backward pass and optimization\n",
    "            optimizer.zero_grad()\n",
    "            loss.backward()\n",
    "            optimizer.step()\n",
    "\n",
    "            # Calculate training loss\n",
    "            train_loss += loss.item()\n",
    "\n",
    "        # Validation\n",
    "        val_loss = 0\n",
    "        with torch.no_grad():\n",
    "            for (inputs, targets) in val_loader:\n",
    "                outputs = model(inputs)\n",
    "                loss = loss_fn(outputs, targets)\n",
    "                val_loss += loss.item()\n",
    "\n",
    "        # Print epoch losses for every 10 epochs\n",
    "        if (epoch+1)%10 == 0:\n",
    "            print(f\" For Epoch [{epoch+1}/{num_epochs}], training loss is: {train_loss/len(train_loader):.3f} and validation loss is: {val_loss/len(val_loader):.3f}\")\n",
    "fit()\n",
    "#Now make predictions on test set\n",
    "with torch.no_grad():\n",
    "    outputs = model(X_test)\n",
    "    predicted = torch.argmax(outputs, dim=1)\n",
    "    accuracy = (predicted == y_test).sum().item() / len(y_test)\n",
    "    print(f\"Accuracy of the model on the test set is: {accuracy*100:.2f}%\")"
   ]
  },
  {
   "cell_type": "markdown",
   "id": "b3ca96e5",
   "metadata": {},
   "source": [
    "### Base Model - Setup 1 Optimizer - Adam, Dropout - 0.2, Activation Function - Sigmoid, Accuracy 78.95"
   ]
  },
  {
   "cell_type": "markdown",
   "id": "c8831546",
   "metadata": {},
   "source": [
    "### Applying Weight Decay"
   ]
  },
  {
   "cell_type": "code",
   "execution_count": 275,
   "id": "9efd6b42",
   "metadata": {},
   "outputs": [
    {
     "name": "stdout",
     "output_type": "stream",
     "text": [
      "NeuralNet(\n",
      "  (flatten): Flatten(start_dim=1, end_dim=-1)\n",
      "  (linear_relu_stack): Sequential(\n",
      "    (0): Linear(in_features=7, out_features=128, bias=True)\n",
      "    (1): ReLU()\n",
      "    (2): Dropout(p=0.2, inplace=False)\n",
      "    (3): Linear(in_features=128, out_features=128, bias=True)\n",
      "    (4): ReLU()\n",
      "    (5): Dropout(p=0.2, inplace=False)\n",
      "    (6): Linear(in_features=128, out_features=128, bias=True)\n",
      "    (7): ReLU()\n",
      "    (8): Dropout(p=0.2, inplace=False)\n",
      "    (9): Linear(in_features=128, out_features=2, bias=True)\n",
      "    (10): Sigmoid()\n",
      "  )\n",
      ")\n"
     ]
    }
   ],
   "source": [
    "#Now we will be adding dropout layers\n",
    "class NeuralNet(nn.Module):\n",
    "    def __init__(self, dropout_rate):\n",
    "        super(NeuralNet, self).__init__()\n",
    "        self.flatten = nn.Flatten()\n",
    "        self.linear_relu_stack = nn.Sequential(\n",
    "            nn.Linear(7, 128),\n",
    "            nn.ReLU(),\n",
    "            nn.Dropout(p=dropout_rate),\n",
    "            nn.Linear(128, 128),\n",
    "            nn.ReLU(),\n",
    "            nn.Dropout(p=dropout_rate),\n",
    "            nn.Linear(128, 128),\n",
    "            nn.ReLU(),\n",
    "            nn.Dropout(p=dropout_rate),\n",
    "            nn.Linear(128, 2),\n",
    "            nn.Sigmoid()\n",
    "        )\n",
    "    \n",
    "    def forward(self, x):\n",
    "        x = self.flatten(x)\n",
    "        logits = self.linear_relu_stack(x)\n",
    "        return logits\n",
    "\n",
    "\n",
    "# Create an instance of the neural network\n",
    "model = NeuralNet(dropout_rate = 0.2)\n",
    "print(model)"
   ]
  },
  {
   "cell_type": "code",
   "execution_count": 283,
   "id": "619a6ce8",
   "metadata": {},
   "outputs": [
    {
     "name": "stdout",
     "output_type": "stream",
     "text": [
      " For Epoch [10/100], training loss is: 0.645 and validation loss is: 0.603\n",
      " For Epoch [20/100], training loss is: 0.600 and validation loss is: 0.553\n",
      " For Epoch [30/100], training loss is: 0.569 and validation loss is: 0.528\n",
      " For Epoch [40/100], training loss is: 0.554 and validation loss is: 0.523\n",
      " For Epoch [50/100], training loss is: 0.548 and validation loss is: 0.497\n",
      " For Epoch [60/100], training loss is: 0.544 and validation loss is: 0.521\n",
      " For Epoch [70/100], training loss is: 0.529 and validation loss is: 0.494\n",
      " For Epoch [80/100], training loss is: 0.535 and validation loss is: 0.494\n",
      " For Epoch [90/100], training loss is: 0.531 and validation loss is: 0.492\n",
      " For Epoch [100/100], training loss is: 0.524 and validation loss is: 0.504\n",
      "Accuracy of the model is: 72.37%\n"
     ]
    }
   ],
   "source": [
    "# Create an instance of the neural network\n",
    "model = NeuralNet(dropout_rate=0.2)\n",
    "\n",
    "# Define the batch size and create a DataLoader for the training set\n",
    "batch_size = 32\n",
    "train_loader = DataLoader(TensorDataset(X_train, y_train), batch_size=batch_size, shuffle=True)\n",
    "\n",
    "# Create a DataLoader for the validation set\n",
    "val_loader = DataLoader(TensorDataset(X_val, y_val), batch_size=batch_size)\n",
    "\n",
    "# Define the loss function and optimizer\n",
    "loss_fn = nn.CrossEntropyLoss()\n",
    "optimizer = torch.optim.Adam(model.parameters(), lr=0.001, weight_decay=0.0001) # set weight decay here\n",
    "\n",
    "# Train the model\n",
    "def fit():\n",
    "    num_epochs = 100\n",
    "    for epoch in range(num_epochs):\n",
    "        # Training\n",
    "        train_loss = 0\n",
    "        for (inputs, targets) in train_loader:\n",
    "            # Forward pass\n",
    "            outputs = model(inputs)\n",
    "            loss = loss_fn(outputs, targets)\n",
    "\n",
    "            # Backward pass and optimization\n",
    "            optimizer.zero_grad()\n",
    "            loss.backward()\n",
    "            optimizer.step()\n",
    "\n",
    "            # Calculate training loss\n",
    "            train_loss += loss.item()\n",
    "\n",
    "        # Validation\n",
    "        val_loss = 0\n",
    "        with torch.no_grad():\n",
    "            for (inputs, targets) in val_loader:\n",
    "                outputs = model(inputs)\n",
    "                loss = loss_fn(outputs, targets)\n",
    "                val_loss += loss.item()\n",
    "\n",
    "        # Print epoch losses for every 10 epochs\n",
    "        if (epoch+1)%10 == 0:\n",
    "            print(f\" For Epoch [{epoch+1}/{num_epochs}], training loss is: {train_loss/len(train_loader):.3f} and validation loss is: {val_loss/len(val_loader):.3f}\")\n",
    "\n",
    "fit()\n",
    "#Now make predictions on test set\n",
    "with torch.no_grad():\n",
    "    outputs = model(X_test)\n",
    "    predicted = torch.argmax(outputs, dim=1)\n",
    "    accuracy = (predicted == y_test).sum().item() / len(y_test)\n",
    "    print(f\"Accuracy of the model is: {accuracy*100:.2f}%\")"
   ]
  },
  {
   "cell_type": "markdown",
   "id": "51ddd4d9",
   "metadata": {},
   "source": [
    "### Applying Batch Normalization To Our Model"
   ]
  },
  {
   "cell_type": "code",
   "execution_count": 292,
   "id": "7fc17457",
   "metadata": {},
   "outputs": [
    {
     "name": "stdout",
     "output_type": "stream",
     "text": [
      "NeuralNet(\n",
      "  (flatten): Flatten(start_dim=1, end_dim=-1)\n",
      "  (linear_relu_stack): Sequential(\n",
      "    (0): Linear(in_features=7, out_features=128, bias=True)\n",
      "    (1): BatchNorm1d(128, eps=1e-05, momentum=0.1, affine=True, track_running_stats=True)\n",
      "    (2): ReLU()\n",
      "    (3): Dropout(p=0.2, inplace=False)\n",
      "    (4): Linear(in_features=128, out_features=128, bias=True)\n",
      "    (5): BatchNorm1d(128, eps=1e-05, momentum=0.1, affine=True, track_running_stats=True)\n",
      "    (6): ReLU()\n",
      "    (7): Dropout(p=0.2, inplace=False)\n",
      "    (8): Linear(in_features=128, out_features=128, bias=True)\n",
      "    (9): BatchNorm1d(128, eps=1e-05, momentum=0.1, affine=True, track_running_stats=True)\n",
      "    (10): ReLU()\n",
      "    (11): Dropout(p=0.2, inplace=False)\n",
      "    (12): Linear(in_features=128, out_features=2, bias=True)\n",
      "    (13): Sigmoid()\n",
      "  )\n",
      ")\n"
     ]
    }
   ],
   "source": [
    "class NeuralNet(nn.Module):\n",
    "    def __init__(self, dropout_rate):\n",
    "        super(NeuralNet, self).__init__()\n",
    "        self.flatten = nn.Flatten()\n",
    "        self.linear_relu_stack = nn.Sequential(\n",
    "            nn.Linear(7, 128),\n",
    "            nn.BatchNorm1d(128),\n",
    "            nn.ReLU(),\n",
    "            nn.Dropout(p=dropout_rate),\n",
    "            nn.Linear(128, 128),\n",
    "            nn.BatchNorm1d(128),\n",
    "            nn.ReLU(),\n",
    "            nn.Dropout(p=dropout_rate),\n",
    "            nn.Linear(128, 128),\n",
    "            nn.BatchNorm1d(128),\n",
    "            nn.ReLU(),\n",
    "            nn.Dropout(p=dropout_rate),\n",
    "            nn.Linear(128, 2),\n",
    "            nn.Sigmoid()\n",
    "        )\n",
    "    \n",
    "    def forward(self, x):\n",
    "        x = self.flatten(x)\n",
    "        logits = self.linear_relu_stack(x)\n",
    "        return logits\n",
    "# Create an instance of the neural network\n",
    "model = NeuralNet(dropout_rate = 0.2)\n",
    "print(model)"
   ]
  },
  {
   "cell_type": "code",
   "execution_count": 297,
   "id": "4f411a59",
   "metadata": {},
   "outputs": [
    {
     "name": "stdout",
     "output_type": "stream",
     "text": [
      " For Epoch [10/100], training loss is: 0.423 and validation loss is: 0.635\n",
      " For Epoch [20/100], training loss is: 0.420 and validation loss is: 0.660\n",
      " For Epoch [30/100], training loss is: 0.439 and validation loss is: 0.588\n",
      " For Epoch [40/100], training loss is: 0.428 and validation loss is: 0.598\n",
      " For Epoch [50/100], training loss is: 0.431 and validation loss is: 0.629\n",
      " For Epoch [60/100], training loss is: 0.425 and validation loss is: 0.614\n",
      " For Epoch [70/100], training loss is: 0.422 and validation loss is: 0.606\n",
      " For Epoch [80/100], training loss is: 0.416 and validation loss is: 0.617\n",
      " For Epoch [90/100], training loss is: 0.422 and validation loss is: 0.554\n",
      " For Epoch [100/100], training loss is: 0.433 and validation loss is: 0.658\n",
      "Accuracy of the model is: 71.05%\n"
     ]
    }
   ],
   "source": [
    "from torch.utils.data import DataLoader, TensorDataset\n",
    "\n",
    "# Define the batch size and create a DataLoader for the training set\n",
    "batch_size = 32\n",
    "train_loader = DataLoader(TensorDataset(X_train, y_train), batch_size=batch_size, shuffle=True)\n",
    "\n",
    "# Create a DataLoader for the validation set\n",
    "val_loader = DataLoader(TensorDataset(X_val, y_val), batch_size=batch_size)\n",
    "\n",
    "# Define the loss function and optimizer\n",
    "loss_fn = nn.CrossEntropyLoss()\n",
    "optimizer = torch.optim.Adam(model.parameters(), lr=0.001)\n",
    "\n",
    "\n",
    "# Train the model\n",
    "#Lets define this as our fit function\n",
    "def fit():\n",
    "    num_epochs = 100\n",
    "    for epoch in range(num_epochs):\n",
    "        # Training\n",
    "        train_loss = 0\n",
    "        for (inputs, targets) in train_loader:\n",
    "            # Forward pass\n",
    "            outputs = model(inputs)\n",
    "            loss = loss_fn(outputs, targets)\n",
    "\n",
    "            # Backward pass and optimization\n",
    "            optimizer.zero_grad()\n",
    "            loss.backward()\n",
    "            optimizer.step()\n",
    "\n",
    "            # Calculate training loss\n",
    "            train_loss += loss.item()\n",
    "\n",
    "        # Validation\n",
    "        val_loss = 0\n",
    "        with torch.no_grad():\n",
    "            for (inputs, targets) in val_loader:\n",
    "                outputs = model(inputs)\n",
    "                loss = loss_fn(outputs, targets)\n",
    "                val_loss += loss.item()\n",
    "\n",
    "        # Print epoch losses for every 10 epochs\n",
    "        if (epoch+1)%10 == 0:\n",
    "            print(f\" For Epoch [{epoch+1}/{num_epochs}], training loss is: {train_loss/len(train_loader):.3f} and validation loss is: {val_loss/len(val_loader):.3f}\")\n",
    "fit()\n",
    "#Now make predictions on test set\n",
    "with torch.no_grad():\n",
    "    outputs = model(X_test)\n",
    "    predicted = torch.argmax(outputs, dim=1)\n",
    "    accuracy = (predicted == y_test).sum().item() / len(y_test)\n",
    "    print(f\"Accuracy of the model is: {accuracy*100:.2f}%\")"
   ]
  },
  {
   "cell_type": "markdown",
   "id": "3eb2e5a6",
   "metadata": {},
   "source": [
    "### Apply Learn Rate Scheduler"
   ]
  },
  {
   "cell_type": "code",
   "execution_count": 378,
   "id": "fc0a20b9",
   "metadata": {},
   "outputs": [
    {
     "name": "stdout",
     "output_type": "stream",
     "text": [
      "NeuralNet(\n",
      "  (flatten): Flatten(start_dim=1, end_dim=-1)\n",
      "  (linear_relu_stack): Sequential(\n",
      "    (0): Linear(in_features=7, out_features=128, bias=True)\n",
      "    (1): ReLU()\n",
      "    (2): Dropout(p=0.2, inplace=False)\n",
      "    (3): Linear(in_features=128, out_features=128, bias=True)\n",
      "    (4): ReLU()\n",
      "    (5): Dropout(p=0.2, inplace=False)\n",
      "    (6): Linear(in_features=128, out_features=128, bias=True)\n",
      "    (7): ReLU()\n",
      "    (8): Dropout(p=0.2, inplace=False)\n",
      "    (9): Linear(in_features=128, out_features=2, bias=True)\n",
      "    (10): Sigmoid()\n",
      "  )\n",
      ")\n"
     ]
    }
   ],
   "source": [
    "#Now we will be adding dropout layers\n",
    "class NeuralNet(nn.Module):\n",
    "    def __init__(self, dropout_rate):\n",
    "        super(NeuralNet, self).__init__()\n",
    "        self.flatten = nn.Flatten()\n",
    "        self.linear_relu_stack = nn.Sequential(\n",
    "            nn.Linear(7, 128),\n",
    "            nn.ReLU(),\n",
    "            nn.Dropout(p=dropout_rate),\n",
    "            nn.Linear(128, 128),\n",
    "            nn.ReLU(),\n",
    "            nn.Dropout(p=dropout_rate),\n",
    "            nn.Linear(128, 128),\n",
    "            nn.ReLU(),\n",
    "            nn.Dropout(p=dropout_rate),\n",
    "            nn.Linear(128, 2),\n",
    "            nn.Sigmoid()\n",
    "        )\n",
    "    \n",
    "    def forward(self, x):\n",
    "        x = self.flatten(x)\n",
    "        logits = self.linear_relu_stack(x)\n",
    "        return logits\n",
    "\n",
    "\n",
    "# Create an instance of the neural network\n",
    "model = NeuralNet(dropout_rate = 0.2)\n",
    "print(model)"
   ]
  },
  {
   "cell_type": "code",
   "execution_count": 334,
   "id": "dbd4d0d0",
   "metadata": {},
   "outputs": [
    {
     "name": "stdout",
     "output_type": "stream",
     "text": [
      " For Epoch [10/100], training loss is: 0.521 and validation loss is: 0.498\n",
      "Epoch 00014: reducing learning rate of group 0 to 1.0000e-04.\n",
      "Epoch 00020: reducing learning rate of group 0 to 1.0000e-05.\n",
      " For Epoch [20/100], training loss is: 0.516 and validation loss is: 0.530\n",
      "Epoch 00026: reducing learning rate of group 0 to 1.0000e-06.\n",
      " For Epoch [30/100], training loss is: 0.510 and validation loss is: 0.531\n",
      "Epoch 00032: reducing learning rate of group 0 to 1.0000e-07.\n",
      "Epoch 00038: reducing learning rate of group 0 to 1.0000e-08.\n",
      " For Epoch [40/100], training loss is: 0.519 and validation loss is: 0.497\n",
      " For Epoch [50/100], training loss is: 0.513 and validation loss is: 0.468\n",
      " For Epoch [60/100], training loss is: 0.516 and validation loss is: 0.493\n",
      " For Epoch [70/100], training loss is: 0.513 and validation loss is: 0.494\n",
      " For Epoch [80/100], training loss is: 0.512 and validation loss is: 0.508\n",
      " For Epoch [90/100], training loss is: 0.519 and validation loss is: 0.502\n",
      " For Epoch [100/100], training loss is: 0.520 and validation loss is: 0.522\n",
      "Accuracy of the model is: 76.32%\n"
     ]
    }
   ],
   "source": [
    "from torch.optim.lr_scheduler import ReduceLROnPlateau\n",
    "\n",
    "# Define the loss function and optimizer\n",
    "loss_fn = nn.CrossEntropyLoss()\n",
    "optimizer = torch.optim.Adam(model.parameters(), lr=0.001)\n",
    "\n",
    "# Define the learning rate scheduler\n",
    "lr_scheduler = ReduceLROnPlateau(optimizer, mode='min', factor=0.1, patience=5, verbose=True)\n",
    "\n",
    "# Train the model\n",
    "def fit():\n",
    "    num_epochs = 100\n",
    "    for epoch in range(num_epochs):\n",
    "        # Training\n",
    "        train_loss = 0\n",
    "        for (inputs, targets) in train_loader:\n",
    "            # Forward pass\n",
    "            outputs = model(inputs)\n",
    "            loss = loss_fn(outputs, targets)\n",
    "\n",
    "            # Backward pass and optimization\n",
    "            optimizer.zero_grad()\n",
    "            loss.backward()\n",
    "            optimizer.step()\n",
    "\n",
    "            # Calculate training loss\n",
    "            train_loss += loss.item()\n",
    "\n",
    "        # Validation\n",
    "        val_loss = 0\n",
    "        with torch.no_grad():\n",
    "            for (inputs, targets) in val_loader:\n",
    "                outputs = model(inputs)\n",
    "                loss = loss_fn(outputs, targets)\n",
    "                val_loss += loss.item()\n",
    "\n",
    "        # Step the learning rate scheduler\n",
    "        lr_scheduler.step(val_loss)\n",
    "\n",
    "        # Print epoch losses for every 10 epochs\n",
    "        if (epoch+1)%10 == 0:\n",
    "            print(f\" For Epoch [{epoch+1}/{num_epochs}], training loss is: {train_loss/len(train_loader):.3f} and validation loss is: {val_loss/len(val_loader):.3f}\")\n",
    "fit()\n",
    "#Now make predictions on test set\n",
    "with torch.no_grad():\n",
    "    outputs = model(X_test)\n",
    "    predicted = torch.argmax(outputs, dim=1)\n",
    "    accuracy = (predicted == y_test).sum().item() / len(y_test)\n",
    "    print(f\"Accuracy of the model is: {accuracy*100:.2f}%\")"
   ]
  },
  {
   "cell_type": "markdown",
   "id": "8bda5e2f",
   "metadata": {},
   "source": [
    "### Applying Gradient Clipping"
   ]
  },
  {
   "cell_type": "code",
   "execution_count": 340,
   "id": "69825573",
   "metadata": {},
   "outputs": [
    {
     "name": "stdout",
     "output_type": "stream",
     "text": [
      "NeuralNet(\n",
      "  (flatten): Flatten(start_dim=1, end_dim=-1)\n",
      "  (linear_relu_stack): Sequential(\n",
      "    (0): Linear(in_features=7, out_features=128, bias=True)\n",
      "    (1): ReLU()\n",
      "    (2): Dropout(p=0.2, inplace=False)\n",
      "    (3): Linear(in_features=128, out_features=128, bias=True)\n",
      "    (4): ReLU()\n",
      "    (5): Dropout(p=0.2, inplace=False)\n",
      "    (6): Linear(in_features=128, out_features=128, bias=True)\n",
      "    (7): ReLU()\n",
      "    (8): Dropout(p=0.2, inplace=False)\n",
      "    (9): Linear(in_features=128, out_features=2, bias=True)\n",
      "    (10): Sigmoid()\n",
      "  )\n",
      ")\n"
     ]
    }
   ],
   "source": [
    "print(model)"
   ]
  },
  {
   "cell_type": "code",
   "execution_count": 379,
   "id": "7a591dd4",
   "metadata": {},
   "outputs": [
    {
     "name": "stdout",
     "output_type": "stream",
     "text": [
      " For Epoch [10/100], training loss is: 0.645 and validation loss is: 0.604\n",
      " For Epoch [20/100], training loss is: 0.603 and validation loss is: 0.555\n",
      " For Epoch [30/100], training loss is: 0.581 and validation loss is: 0.522\n",
      " For Epoch [40/100], training loss is: 0.569 and validation loss is: 0.507\n",
      " For Epoch [50/100], training loss is: 0.556 and validation loss is: 0.496\n",
      " For Epoch [60/100], training loss is: 0.543 and validation loss is: 0.527\n",
      " For Epoch [70/100], training loss is: 0.530 and validation loss is: 0.505\n",
      " For Epoch [80/100], training loss is: 0.528 and validation loss is: 0.508\n",
      " For Epoch [90/100], training loss is: 0.525 and validation loss is: 0.505\n",
      " For Epoch [100/100], training loss is: 0.528 and validation loss is: 0.495\n",
      "Accuracy of the model is: 75.00%\n"
     ]
    }
   ],
   "source": [
    "import torch.nn.utils as torch_utils\n",
    "# Define the loss function and optimizer\n",
    "loss_fn = nn.CrossEntropyLoss()\n",
    "optimizer = torch.optim.Adam(model.parameters(), lr=0.001)\n",
    "\n",
    "# Define the maximum gradient norm value\n",
    "max_grad_norm = 1.0\n",
    "\n",
    "# Train the model\n",
    "def fit():\n",
    "    num_epochs = 100\n",
    "    for epoch in range(num_epochs):\n",
    "        pass\n",
    "        # Training\n",
    "        train_loss = 0\n",
    "        for (inputs, targets) in train_loader:\n",
    "            pass\n",
    "            # Forward pass\n",
    "            outputs = model(inputs)\n",
    "            loss = loss_fn(outputs, targets)\n",
    "\n",
    "            # Backward pass and optimization\n",
    "            optimizer.zero_grad()\n",
    "            loss.backward()\n",
    "\n",
    "            # Clip gradients to avoid exploding gradients\n",
    "            torch_utils.clip_grad_norm_(model.parameters(), max_grad_norm)\n",
    "\n",
    "            optimizer.step()\n",
    "\n",
    "            # Calculate training loss\n",
    "            train_loss += loss.item()\n",
    "\n",
    "        # Validation\n",
    "        val_loss = 0\n",
    "        pass\n",
    "        with torch.no_grad():\n",
    "            for (inputs, targets) in val_loader:\n",
    "                outputs = model(inputs)\n",
    "                loss = loss_fn(outputs, targets)\n",
    "                val_loss += loss.item()\n",
    "\n",
    "        # Print epoch losses for every 10 epochs\n",
    "        if (epoch+1)%10 == 0:\n",
    "            pass\n",
    "            print(f\" For Epoch [{epoch+1}/{num_epochs}], training loss is: {train_loss/len(train_loader):.3f} and validation loss is: {val_loss/len(val_loader):.3f}\")\n",
    "\n",
    "fit()\n",
    "#Now make predictions on test set\n",
    "with torch.no_grad():\n",
    "    outputs = model(X_test)\n",
    "    predicted = torch.argmax(outputs, dim=1)\n",
    "    accuracy = (predicted == y_test).sum().item() / len(y_test)\n",
    "    print(f\"Accuracy of the model is: {accuracy*100:.2f}%\")"
   ]
  },
  {
   "cell_type": "markdown",
   "id": "c538c383",
   "metadata": {},
   "source": [
    "## Applying K-fold"
   ]
  },
  {
   "cell_type": "code",
   "execution_count": 382,
   "id": "8915b4bb",
   "metadata": {},
   "outputs": [
    {
     "name": "stdout",
     "output_type": "stream",
     "text": [
      "NeuralNet(\n",
      "  (flatten): Flatten(start_dim=1, end_dim=-1)\n",
      "  (linear_relu_stack): Sequential(\n",
      "    (0): Linear(in_features=7, out_features=128, bias=True)\n",
      "    (1): ReLU()\n",
      "    (2): Dropout(p=0.2, inplace=False)\n",
      "    (3): Linear(in_features=128, out_features=128, bias=True)\n",
      "    (4): ReLU()\n",
      "    (5): Dropout(p=0.2, inplace=False)\n",
      "    (6): Linear(in_features=128, out_features=128, bias=True)\n",
      "    (7): ReLU()\n",
      "    (8): Dropout(p=0.2, inplace=False)\n",
      "    (9): Linear(in_features=128, out_features=2, bias=True)\n",
      "    (10): Sigmoid()\n",
      "  )\n",
      ")\n"
     ]
    }
   ],
   "source": [
    "print(model)"
   ]
  },
  {
   "cell_type": "code",
   "execution_count": 426,
   "id": "c8448c52",
   "metadata": {},
   "outputs": [
    {
     "name": "stdout",
     "output_type": "stream",
     "text": [
      "Accuracy of the model is: 78.95%\n"
     ]
    }
   ],
   "source": [
    "# Define a function to train and evaluate the model using K-Fold Cross Validation\n",
    "def train_and_evaluate(X, y, k=5, dropout_rate=0.2, num_epochs=100, lr=0.001):\n",
    "    kfs = KFold(n_splits=k)\n",
    "    accuracies = []\n",
    "    fold_num = 1\n",
    "    \n",
    "    for train_idx, val_idx in kfs.split(X):\n",
    "        # Spliting  the data into training and validation sets\n",
    "        X_train, y_train = X[train_idx], y[train_idx]\n",
    "        X_val, y_val = X[val_idx], y[val_idx]\n",
    "\n",
    "        # Create a DataLoader for the training sets\n",
    "        train_loader = DataLoader(TensorDataset(X_train, y_train), batch_size=32, shuffle=True)\n",
    "\n",
    "        # Create a DataLoader for the validationsets\n",
    "        val_loader = DataLoader(TensorDataset(X_val, y_val), batch_size=32)\n",
    "\n",
    "        # Initialzing the model and the loss function\n",
    "        model = NeuralNet(dropout_rate)\n",
    "        loss_fn = nn.CrossEntropyLoss()\n",
    "\n",
    "        # Initialize the optimizer\n",
    "        optimizer = torch.optim.Adam(model.parameters(), lr=lr)\n",
    "\n",
    "        # Train the model\n",
    "        for epoch in range(num_epochs):\n",
    "            # Training\n",
    "            pass\n",
    "            train_loss = 0\n",
    "            for (inputs, targets) in train_loader:\n",
    "                # Forward pass\n",
    "                outputs = model(inputs)\n",
    "                loss = loss_fn(outputs, targets)\n",
    "\n",
    "                # Backward pass and optimization\n",
    "                optimizer.zero_grad()\n",
    "                loss.backward()\n",
    "                optimizer.step()\n",
    "\n",
    "                # Calculate training loss\n",
    "                train_loss += loss.item()\n",
    "\n",
    "            # Validation\n",
    "            val_loss = 0\n",
    "            pass\n",
    "            with torch.no_grad():\n",
    "            \n",
    "                for (inputs, targets) in val_loader:\n",
    "                    outputs = model(inputs)\n",
    "                    pass\n",
    "                    for i in val_loader:\n",
    "                        pass\n",
    "                    loss = loss_fn(outputs, targets)\n",
    "                    for j in val_loader:\n",
    "                        pass\n",
    "                    val_loss += loss.item()\n",
    "                    \n",
    "\n",
    "# Evaluate the model on the test set\n",
    "with torch.no_grad():\n",
    "    outputs = model(X_test)\n",
    "    pass\n",
    "    predicted = torch.argmax(outputs, dim=1)\n",
    "    accuracy = (predicted == y_test).sum().item() / len(y_test)\n",
    "    print(f\"Accuracy of the model is: {accuracy*100:.2f}%\")"
   ]
  },
  {
   "cell_type": "code",
   "execution_count": 454,
   "id": "5275a41d",
   "metadata": {},
   "outputs": [
    {
     "data": {
      "image/png": "[encoded data removed]",
      "text/plain": [
       "<Figure size 432x288 with 1 Axes>"
      ]
     },
     "metadata": {
      "needs_background": "light"
     },
     "output_type": "display_data"
    }
   ],
   "source": [
    "import matplotlib.pyplot as plt\n",
    "\n",
    "# Data\n",
    "accuracies = [78.95, 72.37, 71.05, 76.32, 75.00, 78.95]\n",
    "\n",
    "# Define x-axis labels\n",
    "x_labels = ['Base Model', 'Weight Decay', 'Batch Normalization', 'Learn Rate Scheduler', 'Gradient Clipping', 'K-Fold']\n",
    "\n",
    "# Plot\n",
    "plt.plot(accuracies)\n",
    "\n",
    "# Customize plot\n",
    "plt.title(\"Accuracy Plot\",color = 'red')\n",
    "plt.xlabel(\"Model\",color = 'red')\n",
    "plt.ylabel(\"Accuracy (%)\",color = 'red')\n",
    "plt.xticks(range(len(accuracies)), x_labels, rotation=45, color='red')  # Set x-axis labels color to red\n",
    "plt.ylim([0, 100])\n",
    "plt.grid(True)\n",
    "\n",
    "# Show plot\n",
    "plt.show()"
   ]
  }
 ],
 "metadata": {
  "kernelspec": {
   "display_name": "Python 3 (ipykernel)",
   "language": "python",
   "name": "python3"
  },
  "language_info": {
   "codemirror_mode": {
    "name": "ipython",
    "version": 3
   },
   "file_extension": ".py",
   "mimetype": "text/x-python",
   "name": "python",
   "nbconvert_exporter": "python",
   "pygments_lexer": "ipython3",
   "version": "3.9.12"
  }
 },
 "nbformat": 4,
 "nbformat_minor": 5
}
